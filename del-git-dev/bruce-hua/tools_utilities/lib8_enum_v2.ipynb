{
 "cells": [
  {
   "cell_type": "code",
   "execution_count": 7,
   "id": "bf61c0a1",
   "metadata": {},
   "outputs": [],
   "source": [
    "from rdkit import Chem\n",
    "from rdkit.Chem import AllChem\n",
    "from rdkit.Chem import Descriptors3D\n",
    "from rdkit.Chem import rdChemReactions\n",
    "from rdkit.Chem import Descriptors\n",
    "from rdkit.Chem import Lipinski\n",
    "from rdkit.Chem import rdChemReactions\n",
    "from rdkit.Chem import rdMolDescriptors\n",
    "from rdkit.Chem import Crippen\n",
    "from rdkit.Chem.Draw import IPythonConsole\n",
    "from rdkit.Chem import Draw\n",
    "from rdkit.Chem import SaltRemover\n",
    "import pandas as pd\n",
    "import csv\n",
    "import freesasa\n",
    "import numpy as np\n",
    "import itertools"
   ]
  },
  {
   "cell_type": "code",
   "execution_count": 16,
   "id": "11d32ad2-709d-44c4-9966-66f4313f804f",
   "metadata": {},
   "outputs": [],
   "source": [
    "dir_name = '/Users/ztan/Documents/DEL data analysis/lib enumeration/lib8/'\n",
    "\n",
    "df = pd.read_csv('Lib ID 8 (DOS-DEL-5) BB Structure.csv')\n",
    "dfe = pd.read_csv('lib8_enum.csv')\n",
    "\n",
    "#reductive aminations with all sorts of requirements on amine\n",
    "rxn_redam = rdChemReactions.ReactionFromSmarts('[O:4]=[CH:2][c:3].[#7;H1,H2!$(NS);!$(NC=O);!$(NC=C);!$(NC=N):1]>>[c:3][CH2:2][N:1]')\n",
    "rxn_cuaac = rdChemReactions.ReactionFromSmarts('[#6:3][C:1]#[CH:2].[C:4][N:5]=[N:6]=[N:7]>>[C:4][N:5]1[C:2]=[C:1]([#6:3])[N+0:7]=[N+0:6]1')\n",
    "\n",
    "\n",
    "remover = Chem.SaltRemover.SaltRemover(defnData=\"[Cl,Br]\")\n",
    "\n",
    "structures = []\n",
    "emw = []\n",
    "fsp3 = []\n",
    "nrb = []\n",
    "slogp = []\n",
    "libid = [8]\n",
    "counter = 0\n"
   ]
  },
  {
   "cell_type": "code",
   "execution_count": 23,
   "id": "18d74888-4c67-43fc-8999-3ea7222b68a3",
   "metadata": {},
   "outputs": [
    {
     "name": "stderr",
     "output_type": "stream",
     "text": [
      "[14:23:07] mapped atoms in the reactants were not mapped in the products.\n",
      "  unmapped numbers are: 4 \n"
     ]
    }
   ],
   "source": [
    "#real code here\n",
    "structures = []\n",
    "for lib in libid:\n",
    "    cy1 = df[(df['master_lib_id'] == lib) & (df['cy_no'] == 1)]\n",
    "    cy2 = df[(df['master_lib_id'] == lib) & (df['cy_no'] == 2)]\n",
    "    cy3 = df[(df['master_lib_id'] == lib) & (df['cy_no'] == 3)]\n",
    "    for i in range(len(cy1)):\n",
    "        r1 = cy1.iloc[i]['bb_smiles']\n",
    "        \n",
    "        for j in range(len(cy2)):\n",
    "            r2 = cy2.iloc[j]['bb_smiles']\n",
    "            r2 = Chem.MolToSmiles(remover.StripMol(Chem.MolFromSmiles(r2)))\n",
    "            products = rxn_cuaac.RunReactants((Chem.MolFromSmiles(r2),Chem.MolFromSmiles(r1)))\n",
    "            p2 = Chem.MolToSmiles(products[0][0], isomericSmiles = True)\n",
    "            \n",
    "            for k in range(len(cy3)):\n",
    "                r3 = cy3.iloc[k]['bb_smiles']\n",
    "                r3 = Chem.MolToSmiles(remover.StripMol(Chem.MolFromSmiles(r3)))\n",
    "                products = rxn_redam.RunReactants((Chem.MolFromSmiles(p2),Chem.MolFromSmiles(r3)))\n",
    "                \n",
    "                struct_out = Chem.MolToSmiles(products[0][0], isomericSmiles = True)\n",
    "                structures.append(Chem.MolToSmiles(products[0][0], isomericSmiles = True))\n",
    "                \n",
    "                cpd_out = Chem.MolFromSmiles(struct_out)\n",
    "                try:\n",
    "                    emw.append(Descriptors.ExactMolWt(cpd_out))\n",
    "                except:\n",
    "                    emw.append(np.nan)\n",
    "                try:\n",
    "                    fsp3.append(Lipinski.FractionCSP3(cpd_out))\n",
    "                except:\n",
    "                    fsp3.append(np.nan)\n",
    "                try:\n",
    "                    nrb.append(Lipinski.NumRotatableBonds(cpd_out))\n",
    "                except:\n",
    "                    nrb.append(np.nan)\n",
    "                try:\n",
    "                    slogp.append(Crippen.MolLogP(cpd_out))\n",
    "                except:\n",
    "                    slogp.append(np.nan)\n",
    "                    counter += 1\n",
    "                \n",
    "\n",
    "dfe['structures'] = structures\n",
    "dfe.to_csv('lib8_enum.csv', index = False)\n",
    "len(structures)\n",
    "len(emw)\n",
    "\n",
    "lib_id = 8\n",
    "pd.DataFrame({'structures': structures}).to_csv(dir_name + 'meta/lib/enum_struct/lib' + str(lib_id).zfill(3) + '.csv', index = False)\n",
    "pd.DataFrame({'value': emw}).to_csv(dir_name + 'meta/lib/enum_prop/lib' + str(lib_id).zfill(3) + '_emw.csv', index = False)\n",
    "pd.DataFrame({'value': fsp3}).to_csv(dir_name + 'meta/lib/enum_prop/lib' + str(lib_id).zfill(3) + '_fsp3.csv', index = False)\n",
    "pd.DataFrame({'value': nrb}).to_csv(dir_name + 'meta/lib/enum_prop/lib' + str(lib_id).zfill(3) + '_nrb.csv', index = False)\n",
    "pd.DataFrame({'value': slogp}).to_csv(dir_name + 'meta/lib/enum_prop/lib' + str(lib_id).zfill(3) + '_slogp.csv', index = False)"
   ]
  },
  {
   "cell_type": "code",
   "execution_count": 34,
   "id": "e19da075-f836-4e2c-a6c4-ffc06be9d160",
   "metadata": {},
   "outputs": [],
   "source": [
    "agg_meta = pd.read_csv(dir_name + 'meta/an/agg_meta.csv')"
   ]
  },
  {
   "cell_type": "code",
   "execution_count": 37,
   "id": "099c17b2-48c8-4d05-8abc-008a4566c552",
   "metadata": {},
   "outputs": [],
   "source": [
    "# Generate meta cols\n",
    "tags = [cy1['cy_id'], cy2['cy_id'], cy3['cy_id']]\n",
    "all_combinations = list(itertools.product(*tags))\n",
    "enum_df = pd.concat([\n",
    "    pd.DataFrame({'lib_id': [lib_id for x in all_combinations]}),\n",
    "    pd.DataFrame(all_combinations, columns=['cycle1', 'cycle2', 'cycle3'])\n",
    "], axis = 1)\n",
    "\n",
    "for i in range(len(agg_meta)):\n",
    "    agg_id = agg_meta.iloc[i]['agg_id']\n",
    "    col_names = ['cycle' + x for x in agg_meta.iloc[i]['cyc'].split(', ')]\n",
    "    col_names.insert(0, 'lib_id')\n",
    "    \n",
    "    enum_out = enum_df[col_names].drop_duplicates()\n",
    "    enum_out.to_csv(dir_name + 'meta/lib/meta_cols/lib' + str(lib_id).zfill(3) + '_' +\n",
    "                    'agg' + str(agg_id).zfill(2) + '_meta_cols.csv', index = False)"
   ]
  },
  {
   "cell_type": "code",
   "execution_count": 22,
   "id": "e57a773e-ca32-43aa-8094-02d4b06a4462",
   "metadata": {},
   "outputs": [
    {
     "data": {
      "text/plain": [
       "0"
      ]
     },
     "execution_count": 22,
     "metadata": {},
     "output_type": "execute_result"
    }
   ],
   "source": []
  },
  {
   "cell_type": "code",
   "execution_count": null,
   "id": "d1cbb76f-aed4-4bef-885b-3bcb2efefa33",
   "metadata": {},
   "outputs": [],
   "source": []
  }
 ],
 "metadata": {
  "kernelspec": {
   "display_name": "Python 3",
   "language": "python",
   "name": "python3"
  },
  "language_info": {
   "codemirror_mode": {
    "name": "ipython",
    "version": 3
   },
   "file_extension": ".py",
   "mimetype": "text/x-python",
   "name": "python",
   "nbconvert_exporter": "python",
   "pygments_lexer": "ipython3",
   "version": "3.7.13"
  }
 },
 "nbformat": 4,
 "nbformat_minor": 5
}
